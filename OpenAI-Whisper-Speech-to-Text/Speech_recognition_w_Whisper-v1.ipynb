{
 "cells": [
  {
   "cell_type": "code",
   "execution_count": 1,
   "id": "e4c3d0d3",
   "metadata": {},
   "outputs": [],
   "source": [
    "#!pip install openai\n",
    "#!pip install pydub\n",
    "#!pip install soundcard\n",
    "#!pip install soundfile\n",
    "\n",
    "#!pip uninstall whisper\n",
    "#!pip install --user --force-reinstall openai-whisper==20230124"
   ]
  },
  {
   "cell_type": "code",
   "execution_count": 2,
   "id": "0f4e4e74",
   "metadata": {},
   "outputs": [],
   "source": [
    "# Path to the file containing the API key\n",
    "api_key_file = './api_key.txt'\n",
    "\n",
    "# Function to read the API key from the file\n",
    "def get_api_key(file_path):\n",
    "    with open(file_path, 'r') as file:\n",
    "        return file.read().strip()  # .strip() removes any leading/trailing whitespace\n",
    "\n",
    "# Retrieve the API key from the file\n",
    "OPENAI_API_KEY = get_api_key(api_key_file)\n",
    "#display(openai.api_key)"
   ]
  },
  {
   "cell_type": "code",
   "execution_count": 3,
   "id": "12533a54",
   "metadata": {},
   "outputs": [],
   "source": [
    "#MODEL = \"gpt-3.5-turbo\"\n",
    "MODEL = \"gpt-4\""
   ]
  },
  {
   "cell_type": "code",
   "execution_count": 4,
   "id": "a435d356",
   "metadata": {},
   "outputs": [],
   "source": [
    "SAMPLE_RATE = 48000              # [Hz]. sampling rate\n",
    "OUTPUT_FILE_NAME = \"output.wav\"    # file name."
   ]
  },
  {
   "cell_type": "code",
   "execution_count": 5,
   "id": "78a4c67f",
   "metadata": {},
   "outputs": [
    {
     "name": "stdout",
     "output_type": "stream",
     "text": [
      "Enter time duration in minutes: 3\n"
     ]
    }
   ],
   "source": [
    "# Recording duration\n",
    "RECORD_MIN =  int(input(\"Enter time duration in minutes: \"))*60 # [min]. duration recording audio."
   ]
  },
  {
   "cell_type": "code",
   "execution_count": 6,
   "id": "afb6d1be",
   "metadata": {},
   "outputs": [
    {
     "name": "stderr",
     "output_type": "stream",
     "text": [
      "C:\\Users\\Tim Wu\\AppData\\Roaming\\Python\\Python310\\site-packages\\pydub\\utils.py:170: RuntimeWarning: Couldn't find ffmpeg or avconv - defaulting to ffmpeg, but may not work\n",
      "  warn(\"Couldn't find ffmpeg or avconv - defaulting to ffmpeg, but may not work\", RuntimeWarning)\n"
     ]
    },
    {
     "name": "stdout",
     "output_type": "stream",
     "text": [
      "1.8.0\n"
     ]
    }
   ],
   "source": [
    "import soundcard as sc\n",
    "import soundfile as sf\n",
    "from pydub import AudioSegment\n",
    "import datetime\n",
    "import os\n",
    "import openai\n",
    "\n",
    "print(openai.__version__)"
   ]
  },
  {
   "cell_type": "code",
   "execution_count": 7,
   "id": "4621b4c8",
   "metadata": {},
   "outputs": [],
   "source": [
    "from openai import OpenAI\n",
    "\n",
    "client = OpenAI(\n",
    "  api_key=OPENAI_API_KEY,  # this is also the default, it can be omitted\n",
    ")"
   ]
  },
  {
   "cell_type": "code",
   "execution_count": 8,
   "id": "c89f9d25",
   "metadata": {},
   "outputs": [
    {
     "name": "stdout",
     "output_type": "stream",
     "text": [
      "Recording.....n\n",
      "End Recording\n"
     ]
    }
   ],
   "source": [
    "with sc.get_microphone(id=str(sc.default_speaker().name), include_loopback=True).recorder(samplerate=SAMPLE_RATE) as mic:\n",
    "    # record audio with loopback from default speaker.\n",
    "    print(\"Recording.....n\")\n",
    "    data = mic.record(numframes=SAMPLE_RATE*RECORD_MIN)\n",
    "    \n",
    "    # change \"data=data[:, 0]\" to \"data=data\", if you would like to write audio as multiple-channels.\n",
    "    sf.write(file=OUTPUT_FILE_NAME, data=data[:, 0], samplerate=SAMPLE_RATE)\n",
    "    print(\"End Recording\")"
   ]
  },
  {
   "cell_type": "code",
   "execution_count": 9,
   "id": "92fa10e8",
   "metadata": {},
   "outputs": [],
   "source": [
    "# Initialize an empty string to hold the transcript\n",
    "transcript = \"\"\n",
    "\n",
    "# load audio file\n",
    "sound = AudioSegment.from_file(OUTPUT_FILE_NAME, format='wav')\n",
    "\n",
    "# Set the segment length（unit：ms）\n",
    "segment_length = 100000\n",
    "\n",
    "# segment the audio file to multiple file\n",
    "for i, chunk in enumerate(sound[::segment_length]):\n",
    "    # Set the file name\n",
    "    chunk.export(f'output_{i}.wav', format='wav')\n",
    "    audio_file = open(f'output_{i}.wav', \"rb\")\n",
    "    transcription = client.audio.transcriptions.create(\n",
    "        model=\"whisper-1\",  \n",
    "        file=audio_file, \n",
    "        response_format=\"text\")\n",
    "    # Concatenate the resulting text with the existing transcript\n",
    "    transcript += transcription + ' '\n",
    "# Print the final transcript\n",
    "# print(transcript)"
   ]
  },
  {
   "cell_type": "code",
   "execution_count": 10,
   "id": "06b2280d",
   "metadata": {},
   "outputs": [],
   "source": [
    "transcript_ary = []\n",
    "\n",
    "ret = ''\n",
    "for script in transcript.split():\n",
    "    ret = ret + ' ' + script\n",
    "    if len(ret) > 1000:\n",
    "        transcript_ary.append(ret)\n",
    "        ret = ''\n",
    "transcript_ary.append(ret)\n",
    "#print(transcript_ary)"
   ]
  },
  {
   "cell_type": "code",
   "execution_count": 11,
   "id": "035b68cf",
   "metadata": {},
   "outputs": [
    {
     "name": "stdout",
     "output_type": "stream",
     "text": [
      "Data saved to Raw_transcript_response_2024-02-25_08-11-28.txt.\n"
     ]
    }
   ],
   "source": [
    "# Get the current date and time\n",
    "now = datetime.datetime.now()\n",
    "# Format the date and time as a string\n",
    "timestamp = now.strftime(\"%Y-%m-%d_%H-%M-%S\")\n",
    "# Set the file name using the timestamp\n",
    "filename = f\"Raw_transcript_response_{timestamp}.txt\"\n",
    "\n",
    "# Print the name of the saved file\n",
    "print(f\"Data saved to {filename}.\")\n",
    "\n",
    "# Open the file in write mode and save the data\n",
    "with open(filename, \"w\", encoding=\"utf-8\") as f:\n",
    "    for item in transcript_ary:\n",
    "        f.write(item + \"\\n\")"
   ]
  },
  {
   "cell_type": "code",
   "execution_count": 12,
   "id": "7ea07e3c",
   "metadata": {},
   "outputs": [],
   "source": [
    "result_ary = []\n",
    "\n",
    "for t in transcript_ary:\n",
    "    completion = client.chat.completions.create(\n",
    "      model=MODEL,\n",
    "      messages=[\n",
    "        {\"role\": \"system\", \"content\": \"You are a helpful assistant and a professional writer. Your task is to summarize the text in bullets and sub-bullets format.\"},\n",
    "        {\"role\": \"user\", \"content\": t}\n",
    "      ]\n",
    "    )\n",
    "\n",
    "    result_ary.append(completion.choices[0].message)"
   ]
  },
  {
   "cell_type": "code",
   "execution_count": 13,
   "id": "167453d6",
   "metadata": {},
   "outputs": [
    {
     "name": "stdout",
     "output_type": "stream",
     "text": [
      "- Data about runners with muscle mass and glycogen consumption features are plotted in a dataset. \n",
      "  - Marathon runners are shown in red.\n",
      "    - They are endurance athletes who need to be efficient and lean.\n",
      "    - They tend to have a lower muscle mass and lower glycogen consumption than sprinters.\n",
      "  - Sprinters are shown in blue.\n",
      "    - They optimize for explosive power.\n",
      "    - They usually have higher muscle mass and glycogen consumption than marathon runners.\n",
      "\n",
      "- Glycogen consumption is plotted on the x-axis and muscle mass on the y-axis.\n",
      "- A discriminative model, like logistic regression, is used to learn a decision boundary. \n",
      "  - The decision boundary separates data points into marathon runners and sprint runners.\n",
      "  - It's represented by the black line on the plot.\n",
      "\n",
      "- After fitting the data, the model can classify new data points as marathon or sprint runners based on their muscle mass and glycogen consumption.\n",
      "- The text discusses the classification of athletes into sprint runners or marathon runners\n",
      "    - This is dependent on factors like muscle mass and glycogen consumption\n",
      "    - A new data point above the decision boundary indicates a sprint runner, while one below suggests a marathon runner\n",
      "\n",
      "- The comparison introduces a generative model \n",
      "    - This model adds a third dimension, representing the likelihood of these characteristics in the two classes of athletes\n",
      "\n",
      "- The discussion continues with the understanding of marathon runners \n",
      "    - They are seen as a sample from the entire population of potential marathon runners\n",
      "    - This population is represented via a distribution, such as a 3D Gaussian distribution\n",
      "\n",
      "- The representation then goes on to dissect sprint runners \n",
      "    - This class is viewed as samples from the entirety of sprint runners population\n",
      "    - The population can also be represented by a 3D distribution, for example, a blue 3D Gaussian distribution.\n",
      "- The combination of the blue and pink distributions represent our dataset's generative process.\n",
      "  - Our dataset is comprised of a finite set of examples drawn from a bivariate distribution, which is a mix of the blue and pink distributions. \n",
      "- Generative models like Gaussian mixture models or bias classifiers utilize the training dataset to learn various components. \n",
      "  - They learn both the shape of the two classes and their sum.\n",
      "  - Unlike the mixture model, they do not learn a decision boundary but the generative process of our data.\n",
      "- Once completed, these models can be used not only to compile, but also to generate information.\n"
     ]
    }
   ],
   "source": [
    "final_result = \"\"\n",
    "for res in result_ary:\n",
    "    final_result += res.content + ' '\n",
    "    print(res.content)"
   ]
  },
  {
   "cell_type": "code",
   "execution_count": 14,
   "id": "a6ea9860",
   "metadata": {},
   "outputs": [],
   "source": [
    "# Get the current date and time\n",
    "now = datetime.datetime.now()\n",
    "# Format the date and time as a string\n",
    "timestamp = now.strftime(\"%Y-%m-%d_%H-%M-%S\")\n",
    "# Set the file name using the timestamp\n",
    "filename = f\"Summary_response_{timestamp}.txt\""
   ]
  },
  {
   "cell_type": "code",
   "execution_count": 15,
   "id": "3ef20ad0",
   "metadata": {},
   "outputs": [
    {
     "name": "stdout",
     "output_type": "stream",
     "text": [
      "Data saved to Summary_response_2024-02-25_08-11-45.txt.\n"
     ]
    }
   ],
   "source": [
    "# Open the file in write mode and save the data\n",
    "with open(filename, 'w', encoding='utf-8') as f:\n",
    "    f.write(final_result)\n",
    "\n",
    "# Print the name of the saved file\n",
    "print(f\"Data saved to {filename}.\")"
   ]
  }
 ],
 "metadata": {
  "kernelspec": {
   "display_name": "Python 3 (ipykernel)",
   "language": "python",
   "name": "python3"
  },
  "language_info": {
   "codemirror_mode": {
    "name": "ipython",
    "version": 3
   },
   "file_extension": ".py",
   "mimetype": "text/x-python",
   "name": "python",
   "nbconvert_exporter": "python",
   "pygments_lexer": "ipython3",
   "version": "3.10.9"
  }
 },
 "nbformat": 4,
 "nbformat_minor": 5
}
